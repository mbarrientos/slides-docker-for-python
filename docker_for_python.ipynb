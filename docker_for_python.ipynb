{
 "cells": [
  {
   "cell_type": "raw",
   "metadata": {
    "collapsed": true,
    "slideshow": {
     "slide_type": "-"
    }
   },
   "source": [
    "<script>\n",
    "    var code_show=true; //true -> hide code at first\n",
    "\n",
    "    function code_toggle() {\n",
    "        $('div.prompt').hide(); // always hide prompt\n",
    "\n",
    "        if (code_show){\n",
    "            $('div.input').hide();\n",
    "        } else {\n",
    "            $('div.input').show();\n",
    "        }\n",
    "        code_show = !code_show\n",
    "    }\n",
    "    $( document ).ready(code_toggle);\n",
    "</script>"
   ]
  },
  {
   "cell_type": "markdown",
   "metadata": {
    "slideshow": {
     "slide_type": "slide"
    }
   },
   "source": [
    "## Docker for Python Development\n",
    "\n",
    "#### How to live 24/7 with Docker \n"
   ]
  },
  {
   "cell_type": "markdown",
   "metadata": {
    "slideshow": {
     "slide_type": "slide"
    }
   },
   "source": [
    "## About me:\n",
    "\n",
    "* Miguel Barrientos\n",
    "* Developer at Piksel\n",
    "* [github.com/mbarrientos](https://github.com/mbarrientos)\n"
   ]
  },
  {
   "cell_type": "markdown",
   "metadata": {
    "slideshow": {
     "slide_type": "slide"
    }
   },
   "source": [
    "### Content\n",
    "\n",
    "1. **Docker overview**\n",
    "  * Docker\n",
    "  * Docker Compose\n",
    "2. **Building a Django application**\n",
    "3. **Thoughts and advices**\n",
    "4. **Useful images and tools**"
   ]
  },
  {
   "cell_type": "markdown",
   "metadata": {
    "slideshow": {
     "slide_type": "slide"
    }
   },
   "source": [
    "# Docker overview"
   ]
  },
  {
   "cell_type": "markdown",
   "metadata": {
    "slideshow": {
     "slide_type": "subslide"
    }
   },
   "source": [
    "#### Docker\n",
    " * Docker is a tool designed to make it easier to create, deploy, and run applications by using containers."
   ]
  },
  {
   "cell_type": "markdown",
   "metadata": {
    "slideshow": {
     "slide_type": "fragment"
    }
   },
   "source": [
    "* Lightweight containers allows us to encapsulate a system state.\n"
   ]
  },
  {
   "cell_type": "markdown",
   "metadata": {
    "slideshow": {
     "slide_type": "fragment"
    }
   },
   "source": [
    "* We can quickly restore a full environment everytime we need. "
   ]
  },
  {
   "cell_type": "markdown",
   "metadata": {
    "slideshow": {
     "slide_type": "subslide"
    }
   },
   "source": [
    "#### Docker Compose\n",
    "\n",
    "* Tool for defining and running multi-container Docker applications"
   ]
  },
  {
   "cell_type": "markdown",
   "metadata": {
    "slideshow": {
     "slide_type": "fragment"
    }
   },
   "source": [
    "* Aggregate a set of services (based on Docker images) and manages network visibility "
   ]
  },
  {
   "cell_type": "markdown",
   "metadata": {
    "slideshow": {
     "slide_type": "fragment"
    }
   },
   "source": [
    "* Very easy to use."
   ]
  },
  {
   "cell_type": "markdown",
   "metadata": {
    "slideshow": {
     "slide_type": "subslide"
    }
   },
   "source": [
    "<center> <img height=\"60%\" src=\"images/docker-architecture.svg\"/></center>"
   ]
  },
  {
   "cell_type": "markdown",
   "metadata": {
    "slideshow": {
     "slide_type": "fragment"
    }
   },
   "source": [
    "```bash\n",
    "$ docker run ubuntu:16.04 echo \"Hello World\"\n",
    "```"
   ]
  },
  {
   "cell_type": "markdown",
   "metadata": {
    "slideshow": {
     "slide_type": "slide"
    }
   },
   "source": [
    "# Building a Django application"
   ]
  },
  {
   "cell_type": "markdown",
   "metadata": {
    "collapsed": true,
    "slideshow": {
     "slide_type": "subslide"
    }
   },
   "source": [
    "A very simple Django project\n",
    "\n",
    "![alt text](images/project_tree.png)"
   ]
  },
  {
   "cell_type": "markdown",
   "metadata": {
    "collapsed": true,
    "slideshow": {
     "slide_type": "subslide"
    }
   },
   "source": [
    "#### First, we start by creating a **Dockerfile**:\n",
    "```\n",
    "FROM python:3.6\n",
    "\n",
    "RUN apt-get update && \\\n",
    "    apt-get install -y \\\n",
    "        python-psycopg2\n",
    "\n",
    "WORKDIR /usr/src/app\n",
    "\n",
    "COPY requirements.txt /usr/src/app\n",
    "RUN pip install --no-cache-dir -r requirements.txt\n",
    "\n",
    "COPY . /usr/src/app\n",
    "\n",
    "EXPOSE 8080\n",
    "ENTRYPOINT [\"python\", \"manage.py\"]\n",
    "CMD [\"runserver\", \"0.0.0.0:8080\"]\n",
    "```"
   ]
  },
  {
   "cell_type": "markdown",
   "metadata": {
    "slideshow": {
     "slide_type": "notes"
    }
   },
   "source": [
    "Notas"
   ]
  },
  {
   "cell_type": "markdown",
   "metadata": {
    "slideshow": {
     "slide_type": "subslide"
    }
   },
   "source": [
    "To run it, we only need to:"
   ]
  },
  {
   "cell_type": "markdown",
   "metadata": {
    "slideshow": {
     "slide_type": "fragment"
    }
   },
   "source": [
    "```bash\n",
    "$ docker build -t my_app .\n",
    "```"
   ]
  },
  {
   "cell_type": "markdown",
   "metadata": {
    "slideshow": {
     "slide_type": "fragment"
    }
   },
   "source": [
    "```bash\n",
    "$ docker run -it -p 8000:8000 my_app \n",
    "```"
   ]
  },
  {
   "cell_type": "markdown",
   "metadata": {
    "slideshow": {
     "slide_type": "fragment"
    }
   },
   "source": [
    "#### Quite simple, right?"
   ]
  },
  {
   "cell_type": "markdown",
   "metadata": {
    "slideshow": {
     "slide_type": "subslide"
    }
   },
   "source": [
    "Let's add another component to the build."
   ]
  },
  {
   "cell_type": "markdown",
   "metadata": {
    "slideshow": {
     "slide_type": "subslide"
    }
   },
   "source": [
    "We create a **docker-compose.yml** file:\n",
    "```yaml\n",
    "## Docker Compose\n",
    "version: '2'\n",
    "services:\n",
    "  app:\n",
    "    build: .\n",
    "    image: my_app\n",
    "    ports:\n",
    "      - \"8080:8080\"\n",
    "```"
   ]
  },
  {
   "cell_type": "markdown",
   "metadata": {
    "slideshow": {
     "slide_type": "fragment"
    }
   },
   "source": [
    "We can start the services with:\n",
    "```bash\n",
    "docker-compose up\n",
    "```"
   ]
  },
  {
   "cell_type": "markdown",
   "metadata": {
    "slideshow": {
     "slide_type": "fragment"
    }
   },
   "source": [
    "Equivalent to: \n",
    "```bash\n",
    "docker build -t my_app .\n",
    "docker run -p 8080:8080 my_app\n",
    "```"
   ]
  },
  {
   "cell_type": "markdown",
   "metadata": {
    "slideshow": {
     "slide_type": "subslide"
    }
   },
   "source": [
    "Now, we can add a new service and link it to *my_app*"
   ]
  },
  {
   "cell_type": "markdown",
   "metadata": {
    "slideshow": {
     "slide_type": "subslide"
    }
   },
   "source": [
    "```yaml\n",
    "## Docker Compose\n",
    "version: '2'\n",
    "services:\n",
    "  app:\n",
    "    build: .\n",
    "    image: my_app\n",
    "    ports:\n",
    "      - \"8080:8080\"\n",
    "    volumes:\n",
    "      - .:/usr/src/app/\n",
    "    links:\n",
    "      - postgres\n",
    "\n",
    "  postgres:\n",
    "    image: postgres\n",
    "    environment:\n",
    "      - POSTGRES_USER=django\n",
    "      - POSTGRES_PASSWORD=DockerIsGreat\n",
    "      - POSTGRES_DB=django\n",
    " ```"
   ]
  },
  {
   "cell_type": "markdown",
   "metadata": {
    "slideshow": {
     "slide_type": "subslide"
    }
   },
   "source": [
    "```yaml\n",
    "## Docker Compose\n",
    "version: '2'\n",
    "services:\n",
    "  app:\n",
    "    build: .\n",
    "    image: my_app\n",
    "    ports:\n",
    "      - \"8080:8080\"\n",
    "    volumes:\n",
    "      - .:/usr/src/app/\n",
    "      - ./logs/django:/var/log/django\n",
    "    links:\n",
    "      - postgres\n",
    "    environment:\n",
    "      - DB_DEFAULT_HOST=${DB_DEFAULT_HOST}\n",
    "      - DB_DEFAULT_PORT=${DB_DEFAULT_PORT}\n",
    "      - DB_DEFAULT_USER=${DB_DEFAULT_USER}\n",
    "      - DB_DEFAULT_PASSWORD=${DB_DEFAULT_PASSWORD}\n",
    "      - DB_DEFAULT_NAME=${DB_DEFAULT_NAME}\n",
    "      - DJANGO_SECRET_KEY=${DJANGO_SECRET_KEY}\n",
    "\n",
    "  postgres:\n",
    "    image: postgres\n",
    "    volumes:\n",
    "      - ./.data/pgdata:/var/lib/postgresql/data/pgdata\n",
    "      - ./logs/postgresql:/var/log/postgresql\n",
    "    environment:\n",
    "      - POSTGRES_USER=${DB_DEFAULT_USER}\n",
    "      - POSTGRES_PASSWORD=${DB_DEFAULT_PASSWORD}\n",
    "      - POSTGRES_DB=${DB_DEFAULT_NAME}\n",
    "      - PGDATA=/var/lib/postgresql/data/pgdata\n",
    " ```"
   ]
  },
  {
   "cell_type": "markdown",
   "metadata": {
    "slideshow": {
     "slide_type": "subslide"
    }
   },
   "source": [
    "Let's see it in action..."
   ]
  },
  {
   "cell_type": "markdown",
   "metadata": {
    "slideshow": {
     "slide_type": "subslide"
    }
   },
   "source": [
    "<center> <img src=\"images/docker-compose-up-hacker.jpg\" style=\"height:600px\"/> </center>"
   ]
  },
  {
   "cell_type": "markdown",
   "metadata": {
    "collapsed": true,
    "slideshow": {
     "slide_type": "slide"
    }
   },
   "source": [
    "### Thoughts and advices"
   ]
  },
  {
   "cell_type": "markdown",
   "metadata": {
    "slideshow": {
     "slide_type": "subslide"
    }
   },
   "source": [
    "* Mounting your code as a volume is enough to synchronize your container"
   ]
  },
  {
   "cell_type": "markdown",
   "metadata": {
    "slideshow": {
     "slide_type": "fragment"
    }
   },
   "source": [
    "* Creating an *entry* script is usually a wise choice.\n",
    "\n",
    "You can even write it in Python (no bash code needed!)"
   ]
  },
  {
   "cell_type": "markdown",
   "metadata": {
    "slideshow": {
     "slide_type": "subslide"
    }
   },
   "source": [
    "```python\n",
    "@command(command_type=CommandType.bash)\n",
    "def manage(*args, **kwargs) -> List[List[str]]:\n",
    "    cmd = shlex.split(f'python manage.py')\n",
    "    cmd += args\n",
    "    return [cmd]\n",
    "\n",
    "@command(command_type=CommandType.bash)\n",
    "def unit_tests(*args, **kwargs) -> List[List[str]]:\n",
    "    tests = shlex.split(f'coverage run --concurrency=multiprocessing manage.py test --parallel')\n",
    "    tests += args\n",
    "    return [tests]\n",
    "\n",
    "@command(command_type=CommandType.bash)\n",
    "def prospector(*args, **kwargs) -> List[List[str]]:\n",
    "    cmd = ['prospector']\n",
    "    cmd += args\n",
    "    return [cmd]\n",
    "\n",
    "if __name__ == '__main__':\n",
    "    sys.exit(Main().run())\n",
    "```"
   ]
  },
  {
   "cell_type": "markdown",
   "metadata": {
    "slideshow": {
     "slide_type": "subslide"
    }
   },
   "source": [
    "* No need to work with virtualenvs inside docker."
   ]
  },
  {
   "cell_type": "markdown",
   "metadata": {
    "slideshow": {
     "slide_type": "fragment"
    }
   },
   "source": [
    "* Sometimes it's useful to run tests in *library* projects, for encapsulating test environments."
   ]
  },
  {
   "cell_type": "markdown",
   "metadata": {
    "slideshow": {
     "slide_type": "fragment"
    }
   },
   "source": [
    "* Remove cache directories for package managers (apt, pip, ...) after building."
   ]
  },
  {
   "cell_type": "markdown",
   "metadata": {
    "slideshow": {
     "slide_type": "fragment"
    }
   },
   "source": [
    "* Keep your Dockerfile updated, **DO NOT COMMIT CHANGES**\n"
   ]
  },
  {
   "cell_type": "markdown",
   "metadata": {
    "slideshow": {
     "slide_type": "slide"
    }
   },
   "source": [
    "### Useful images and tools"
   ]
  },
  {
   "cell_type": "markdown",
   "metadata": {
    "slideshow": {
     "slide_type": "subslide"
    }
   },
   "source": [
    "* Official Python images (https://hub.docker.com/_/python/):\n",
    "  - python:2.7\n",
    "  - python:3.6\n",
    "  - \"-slim\", \"-alpine\" versions for really lightweight base images.\n"
   ]
  },
  {
   "cell_type": "markdown",
   "metadata": {
    "slideshow": {
     "slide_type": "subslide"
    }
   },
   "source": [
    "* Jupyter notebooks (https://github.com/jupyter/docker-stacks): \n",
    "\n",
    "![jupyter_stacks](images/jupyter_stacks.svg)"
   ]
  },
  {
   "cell_type": "markdown",
   "metadata": {
    "slideshow": {
     "slide_type": "subslide"
    }
   },
   "source": [
    "Out-of-the-box services:\n",
    "* DBs:\n",
    "    - postgres\n",
    "    - mysql\n",
    "* Streaming & queues:\n",
    "    - rabbitmq\n",
    "    - spotify/kafka (kafka + zookeeper)\n",
    "    - redis\n",
    "* ML:\n",
    "    - tensorflow (:latest / :latest-gpu)\n"
   ]
  },
  {
   "cell_type": "markdown",
   "metadata": {
    "slideshow": {
     "slide_type": "fragment"
    }
   },
   "source": [
    "Every other \"service\" you can imagine, try first to *google* for an existing Dockerfile."
   ]
  },
  {
   "cell_type": "markdown",
   "metadata": {
    "slideshow": {
     "slide_type": "subslide"
    }
   },
   "source": [
    "#### Rocker \n",
    "https://github.com/grammarly/rocker\n",
    "\n",
    "* Allows us to write *\"Rockerfiles\"*, enhanced versions of Dockerfile to give some extra features, like:\n",
    "    - Multi-tagging images.\n",
    "    - Dockerfile *mutliple-inheritance*."
   ]
  },
  {
   "cell_type": "markdown",
   "metadata": {
    "slideshow": {
     "slide_type": "slide"
    }
   },
   "source": [
    "#### That's all!"
   ]
  },
  {
   "cell_type": "markdown",
   "metadata": {
    "slideshow": {
     "slide_type": "fragment"
    }
   },
   "source": [
    "<center>\n",
    "<img src=\"images/thanks.jpg\"/>\n",
    "</center>"
   ]
  }
 ],
 "metadata": {
  "celltoolbar": "Slideshow",
  "kernelspec": {
   "display_name": "Python 3",
   "language": "python",
   "name": "python3"
  },
  "language_info": {
   "codemirror_mode": {
    "name": "ipython",
    "version": 3
   },
   "file_extension": ".py",
   "mimetype": "text/x-python",
   "name": "python",
   "nbconvert_exporter": "python",
   "pygments_lexer": "ipython3",
   "version": "3.6.0"
  }
 },
 "nbformat": 4,
 "nbformat_minor": 2
}
