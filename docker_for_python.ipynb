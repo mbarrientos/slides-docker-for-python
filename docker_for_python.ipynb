{
 "cells": [
  {
   "cell_type": "code",
   "execution_count": 40,
   "metadata": {
    "slideshow": {
     "slide_type": "skip"
    }
   },
   "outputs": [
    {
     "data": {
      "text/plain": [
       "{'scroll': True, 'start_slideshow_at': 'selected', 'theme': 'beige'}"
      ]
     },
     "execution_count": 40,
     "metadata": {},
     "output_type": "execute_result"
    }
   ],
   "source": [
    "### from traitlets.config.manager import BaseJSONConfigManager\n",
    "path = \"/usr/local/etc/jupyter/nbconfig\"\n",
    "cm = BaseJSONConfigManager(config_dir=path)\n",
    "cm.update('livereveal', {\n",
    "    'theme': 'beige',\n",
    "    'transition': None, \n",
    "    'start_slideshow_at': 'selected',\n",
    "    'scroll': True,\n",
    "})"
   ]
  },
  {
   "cell_type": "code",
   "execution_count": null,
   "metadata": {
    "collapsed": true
   },
   "outputs": [],
   "source": []
  },
  {
   "cell_type": "markdown",
   "metadata": {
    "slideshow": {
     "slide_type": "slide"
    }
   },
   "source": [
    "# Docker for Python Development\n",
    "\n",
    "## How to live 24/7 with Docker builds\n",
    "\n",
    "\n",
    "\n"
   ]
  },
  {
   "cell_type": "markdown",
   "metadata": {
    "slideshow": {
     "slide_type": "slide"
    }
   },
   "source": [
    "## About me:\n",
    "\n",
    "* Miguel Barrientos\n",
    "* Developer at Piksel\n",
    "* [github.com/mbarrientos](https://github.com/mbarrientos)\n"
   ]
  },
  {
   "cell_type": "markdown",
   "metadata": {
    "slideshow": {
     "slide_type": "slide"
    }
   },
   "source": [
    "In this slides...\n",
    "\n",
    "1. Docker overview\n",
    "  * docker\n",
    "  * docker-compose\n",
    "2. Why is Docker useful at Python apps?\n",
    "3. Some examples\n",
    "4. A bunch of tips\n",
    "5. Some useful images"
   ]
  },
  {
   "cell_type": "markdown",
   "metadata": {
    "slideshow": {
     "slide_type": "slide"
    }
   },
   "source": [
    "# Docker overview"
   ]
  },
  {
   "cell_type": "markdown",
   "metadata": {
    "slideshow": {
     "slide_type": "subslide"
    }
   },
   "source": [
    "Docker architecture\n",
    "![alt text](images/docker-architecture.svg)"
   ]
  },
  {
   "cell_type": "markdown",
   "metadata": {
    "slideshow": {
     "slide_type": "fragment"
    }
   },
   "source": [
    "```bash\n",
    "$ docker run ubuntu:16.04 echo \"Hello World\"\n",
    "```"
   ]
  },
  {
   "cell_type": "markdown",
   "metadata": {
    "slideshow": {
     "slide_type": "slide"
    }
   },
   "source": [
    "# Creating an image"
   ]
  },
  {
   "cell_type": "markdown",
   "metadata": {
    "collapsed": true
   },
   "source": [
    "A very simple Django project\n",
    "\n",
    "![alt text](images/project_tree.png)"
   ]
  },
  {
   "cell_type": "markdown",
   "metadata": {
    "collapsed": true,
    "slideshow": {
     "slide_type": "subslide"
    }
   },
   "source": [
    "file: Dockerfile\n",
    "```\n",
    "FROM python:3.6\n",
    "\n",
    "RUN apt-get update && \\\n",
    "    apt-get install -y \\\n",
    "        python-psycopg2\n",
    "\n",
    "COPY . /usr/src/app\n",
    "WORKDIR /usr/src/app\n",
    "\n",
    "RUN pip install --no-cache-dir -r requirements.txt\n",
    "\n",
    "EXPOSE 8000\n",
    "ENTRYPOINT [\"python\", \"manage.py\"]\n",
    "CMD [\"runserver\", \"0.0.0.0:8000\"]\n",
    "```"
   ]
  },
  {
   "cell_type": "markdown",
   "metadata": {
    "slideshow": {
     "slide_type": "subslide"
    }
   },
   "source": [
    "Then what?"
   ]
  },
  {
   "cell_type": "markdown",
   "metadata": {
    "slideshow": {
     "slide_type": "fragment"
    }
   },
   "source": [
    "```bash\n",
    "$ docker build -t my_app .\n",
    "```"
   ]
  },
  {
   "cell_type": "markdown",
   "metadata": {
    "slideshow": {
     "slide_type": "fragment"
    }
   },
   "source": [
    "```bash\n",
    "$ docker run -it my_app\n",
    "```"
   ]
  },
  {
   "cell_type": "markdown",
   "metadata": {
    "slideshow": {
     "slide_type": "fragment"
    }
   },
   "source": [
    "### Quite simple, right?\n",
    "\n",
    "\n",
    "### Missing something?\n",
    "\n",
    "## A proper database, maybe? :)"
   ]
  },
  {
   "cell_type": "markdown",
   "metadata": {
    "slideshow": {
     "slide_type": "subslide"
    }
   },
   "source": [
    "```yaml\n",
    "## Docker Compose\n",
    "version: '2'\n",
    "services:\n",
    "  app:\n",
    "    build: .\n",
    "    image: opensouth\n",
    "    ports:\n",
    "      - \"8000:8000\"\n",
    " ```"
   ]
  },
  {
   "cell_type": "markdown",
   "metadata": {
    "slideshow": {
     "slide_type": "fragment"
    }
   },
   "source": [
    "Equivalent to: \n",
    "```bash\n",
    "docker build . -t opensouth -p 8000:8000 . \n",
    "```"
   ]
  },
  {
   "cell_type": "markdown",
   "metadata": {
    "slideshow": {
     "slide_type": "subslide"
    }
   },
   "source": [
    "```yaml\n",
    "## Docker Compose\n",
    "version: '2'\n",
    "services:\n",
    "  app:\n",
    "    build: .\n",
    "    image: opensouth\n",
    "    ports:\n",
    "      - \"8000:8000\"\n",
    "    volumes:\n",
    "      - .:/usr/src/app/\n",
    "    links:\n",
    "      - postgres\n",
    "    environment:\n",
    "      - DB_DEFAULT_HOST=postgres\n",
    "      - DB_DEFAULT_PORT=5432\n",
    "      - DB_DEFAULT_USER=opensouth\n",
    "      - DB_DEFAULT_PASSWORD=DockerIsGreat\n",
    "      - DB_DEFAULT_NAME=opensouth\n",
    "\n",
    "  postgres:\n",
    "    image: postgres\n",
    "    environment:\n",
    "      - POSTGRES_USER=opensouth\n",
    "      - POSTGRES_PASSWORD=DockerIsGreat\n",
    "      - POSTGRES_DB=opensouth\n",
    " ```"
   ]
  },
  {
   "cell_type": "markdown",
   "metadata": {
    "slideshow": {
     "slide_type": "subslide"
    }
   },
   "source": [
    "```yaml\n",
    "## Docker Compose\n",
    "version: '2'\n",
    "services:\n",
    "  app:\n",
    "    build: .\n",
    "    image: opensouth\n",
    "    ports:\n",
    "      - \"80:8000\"\n",
    "    volumes:\n",
    "      - .:/usr/src/app/\n",
    "      - ./logs/opensouth:/var/log/opensouth\n",
    "    links:\n",
    "      - postgres\n",
    "    environment:\n",
    "      - DB_DEFAULT_HOST=${DB_DEFAULT_HOST}\n",
    "      - DB_DEFAULT_PORT=${DB_DEFAULT_PORT}\n",
    "      - DB_DEFAULT_USER=${DB_DEFAULT_USER}\n",
    "      - DB_DEFAULT_PASSWORD=${DB_DEFAULT_PASSWORD}\n",
    "      - DB_DEFAULT_NAME=${DB_DEFAULT_NAME}\n",
    "      - DJANGO_SECRET_KEY=${DJANGO_SECRET_KEY}\n",
    "\n",
    "  postgres:\n",
    "    image: postgres\n",
    "    volumes:\n",
    "      - ./.data/pgdata:${PGDATA}\n",
    "      - ./logs/postgresql:/var/log/postgresql\n",
    "    environment:\n",
    "      - POSTGRES_USER=${DB_DEFAULT_USER}\n",
    "      - POSTGRES_PASSWORD=${DB_DEFAULT_PASSWORD}\n",
    "      - POSTGRES_DB=${DB_DEFAULT_NAME}\n",
    "      - PGDATA=/var/lib/postgresql/data/pgdata\n",
    " ```"
   ]
  },
  {
   "cell_type": "code",
   "execution_count": null,
   "metadata": {
    "collapsed": true
   },
   "outputs": [],
   "source": []
  }
 ],
 "metadata": {
  "celltoolbar": "Slideshow",
  "kernelspec": {
   "display_name": "Python 3",
   "language": "python",
   "name": "python3"
  },
  "language_info": {
   "codemirror_mode": {
    "name": "ipython",
    "version": 3
   },
   "file_extension": ".py",
   "mimetype": "text/x-python",
   "name": "python",
   "nbconvert_exporter": "python",
   "pygments_lexer": "ipython3",
   "version": "3.6.0"
  }
 },
 "nbformat": 4,
 "nbformat_minor": 2
}
